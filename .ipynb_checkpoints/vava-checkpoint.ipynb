{
 "cells": [
  {
   "cell_type": "code",
   "execution_count": null,
   "metadata": {},
   "outputs": [],
   "source": []
  },
  {
   "cell_type": "markdown",
   "metadata": {},
   "source": [
    "### This Depository is for fitting spectra of tethered lipid bilayer. \n",
    "\n",
    "\n",
    "\n",
    "For more detailes on homegenouse model that approximates impedance or admittance of submemrbane reservoir read [doi]. Fitting procedure herein extends homogenouse model to heterogenouse model by assuming some unknown underlying denisty destribution funciton.\n",
    "\n",
    "$ Y_{tot} = \\int{Y(N_{def}, f) P(N_{def})} dN_{def}$\n",
    "\n",
    "Distribution funciton $P$ is obtained by solving regularazed and discretized version of equation above [doi].\n",
    "<!-- ![alt text](img.png \"Title\")\"\"\" -->\n",
    "\n",
    "Main Purpose is to simultaniously fit sever spectra that share distribution function, or one spectra at a time otherwise. pH change, tempreture change or electordes polarization can influance some, usually not all, parameters of the model:\n",
    "\n",
    "$C_H$ - Helmholtz capacitance\n",
    "\n",
    "$C_m$ - memrbane capacitance\n",
    "\n",
    "$\\rho$ - submembrane resistance\n",
    "\n",
    "$d_{sub}$ - thickness submebrane reservoire\n",
    "\n",
    "$<N_{def}>$ - average defect density\n",
    "\n",
    "$r_0$ - defect radius\n",
    "\n",
    "Some of these parameters cannot be identified simultaniously hence choise of paramters to fit, not to fit and share should be based on valid physical assumptions. For example, changing pH migh change $C_H$, $C_m$, $\\rho$, $<N_{def}>$. $\\rho$ and $<N_{def}>$ are colinear, hence at least one of $\\rho$ for spectra in series should be fixed. $<N_{def}>$  is shared between all spectra, because it is calculated by integrating  $N_{def}P(N_{def})$ and $P(N_{def})$ is a shared destribution. We assume that $P(N_{def})$ does not change when pH is changes, which can be tested if fits are reasonably good for all spectra. Examening Cole-Cole diagram of example spectra, it is appearent that neither $C_H$, nor $C_m$ change, so these parameters are also shared. \n"
   ]
  },
  {
   "cell_type": "markdown",
   "metadata": {},
   "source": []
  },
  {
   "cell_type": "code",
   "execution_count": null,
   "metadata": {},
   "outputs": [],
   "source": []
  }
 ],
 "metadata": {
  "kernelspec": {
   "display_name": "Python 3",
   "language": "python",
   "name": "python3"
  },
  "language_info": {
   "codemirror_mode": {
    "name": "ipython",
    "version": 3
   },
   "file_extension": ".py",
   "mimetype": "text/x-python",
   "name": "python",
   "nbconvert_exporter": "python",
   "pygments_lexer": "ipython3",
   "version": "3.8.5"
  }
 },
 "nbformat": 4,
 "nbformat_minor": 4
}
